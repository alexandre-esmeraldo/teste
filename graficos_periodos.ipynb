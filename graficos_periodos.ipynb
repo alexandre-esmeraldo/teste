{
 "cells": [
  {
   "cell_type": "code",
   "execution_count": null,
   "id": "b3797388",
   "metadata": {},
   "outputs": [],
   "source": [
    "try:\n",
    "    df_json = pd.read_json(\"graficos.json\")\n",
    "    df_json = df_json.set_index(\"data\")\n",
    "except:\n",
    "    df_json = pd.DataFrame()"
   ]
  },
  {
   "cell_type": "code",
   "execution_count": null,
   "id": "05cc63f4",
   "metadata": {},
   "outputs": [],
   "source": [
    "list_datas, list_datas_dt, d05_count, d10_count, d15_count, d20_count, d25_count = [], [], [], [], [], [], []\n",
    "df_temp, d05_temp, d10_temp, d15_temp, d20_temp, d25_temp =  df.copy(), d05.copy(), d10.copy(), d15.copy(), d20.copy(), d25.copy()\n",
    "max_count = 20\n",
    "\n",
    "bar = IntProgress(min=0, max=max_count*5, style=style, layout=layout) # instantiate the bar\n",
    "display(bar) # display the bar\n",
    "\n",
    "for i in range(0, max_count):\n",
    "    dt_max = df_temp[\"dtPregao\"].max()\n",
    "    dt_max_str = str(dt_max)[0:10]\n",
    "    list_datas.append(dt_max_str)\n",
    "    \n",
    "    if df_json.loc[(df_json.index == dt_max_str)].empty:\n",
    "        d05_count.append(len(d05_temp))\n",
    "        d10_count.append(len(d10_temp))\n",
    "        d15_count.append(len(d15_temp))\n",
    "        d20_count.append(len(d20_temp))\n",
    "        d25_count.append(len(d25_temp))\n",
    "\n",
    "        df_temp = df_temp.loc[df_temp[\"dtPregao\"] != dt_max]\n",
    "        d05_temp = monta_tabela(monta_df_periodos(df_temp, 5), 3000000, '1.0%', 5, 1, bar)\n",
    "        d10_temp = monta_tabela(monta_df_periodos(df_temp, 10), 3000000, '1.0%', 9, 1, bar)\n",
    "        d15_temp = monta_tabela(monta_df_periodos(df_temp, 15), 3000000, '1.0%', 14, 1, bar)\n",
    "        d20_temp = monta_tabela(monta_df_periodos(df_temp, 20), 3000000, '1.0%', 18, 1, bar)\n",
    "        d25_temp = monta_tabela(monta_df_periodos(df_temp, 25), 3000000, '1.0%', 22, 1, bar)\n",
    "    else:\n",
    "        d05_count.append(df_json.loc[dt_max_str][\"qt_acoes_05\"])\n",
    "        d10_count.append(df_json.loc[dt_max_str][\"qt_acoes_10\"])\n",
    "        d15_count.append(df_json.loc[dt_max_str][\"qt_acoes_15\"])\n",
    "        d20_count.append(df_json.loc[dt_max_str][\"qt_acoes_20\"])\n",
    "        d25_count.append(df_json.loc[dt_max_str][\"qt_acoes_25\"])\n",
    "        \n",
    "        df_temp = df_temp.loc[df_temp[\"dtPregao\"] != dt_max]\n",
    "    \n",
    "        bar.value += 5 # signal to increment the progress bar"
   ]
  },
  {
   "cell_type": "code",
   "execution_count": null,
   "id": "ff6b6383",
   "metadata": {},
   "outputs": [],
   "source": [
    "df_graficos = pd.DataFrame({'data': list_datas, \\\n",
    "                            'qt_acoes_05': d05_count, \\\n",
    "                            'qt_acoes_10': d10_count, \\\n",
    "                            'qt_acoes_15': d15_count, \\\n",
    "                            'qt_acoes_20': d20_count, \\\n",
    "                            'qt_acoes_25': d25_count  \n",
    "                           })\n",
    "df_graficos.to_json(\"graficos.json\")"
   ]
  },
  {
   "cell_type": "code",
   "execution_count": null,
   "id": "f9558ab4",
   "metadata": {},
   "outputs": [],
   "source": [
    "gera_grafico(df_graficos.data, df_graficos.qt_acoes_05, title=\"Gráfico 05\")"
   ]
  },
  {
   "cell_type": "code",
   "execution_count": null,
   "id": "6b2bef0d",
   "metadata": {},
   "outputs": [],
   "source": [
    "gera_grafico(df_graficos.data, df_graficos.qt_acoes_10, title=\"Gráfico 10\")"
   ]
  },
  {
   "cell_type": "code",
   "execution_count": null,
   "id": "cbf37abb",
   "metadata": {},
   "outputs": [],
   "source": [
    "gera_grafico(df_graficos.data, df_graficos.qt_acoes_15, title=\"Gráfico 15\")"
   ]
  },
  {
   "cell_type": "code",
   "execution_count": null,
   "id": "68623724",
   "metadata": {},
   "outputs": [],
   "source": [
    "gera_grafico(df_graficos.data, df_graficos.qt_acoes_20, title=\"Gráfico 20\")"
   ]
  },
  {
   "cell_type": "code",
   "execution_count": null,
   "id": "c6d49a06",
   "metadata": {},
   "outputs": [],
   "source": [
    "gera_grafico(df_graficos.data, df_graficos.qt_acoes_25, title=\"Gráfico 25\")"
   ]
  }
 ],
 "metadata": {
  "kernelspec": {
   "display_name": "Python 3 (ipykernel)",
   "language": "python",
   "name": "python3"
  },
  "language_info": {
   "codemirror_mode": {
    "name": "ipython",
    "version": 3
   },
   "file_extension": ".py",
   "mimetype": "text/x-python",
   "name": "python",
   "nbconvert_exporter": "python",
   "pygments_lexer": "ipython3",
   "version": "3.9.7"
  }
 },
 "nbformat": 4,
 "nbformat_minor": 5
}
